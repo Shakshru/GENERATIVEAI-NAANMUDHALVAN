{
  "nbformat": 4,
  "nbformat_minor": 0,
  "metadata": {
    "colab": {
      "provenance": []
    },
    "kernelspec": {
      "name": "python3",
      "display_name": "Python 3"
    },
    "language_info": {
      "name": "python"
    }
  },
  "cells": [
    {
      "cell_type": "code",
      "execution_count": 1,
      "metadata": {
        "colab": {
          "base_uri": "https://localhost:8080/"
        },
        "id": "IZiJ7apn_ogJ",
        "outputId": "d8483b03-5139-4d6a-e45c-1c965090c831"
      },
      "outputs": [
        {
          "output_type": "stream",
          "name": "stdout",
          "text": [
            "Requirement already satisfied: textblob in /usr/local/lib/python3.10/dist-packages (0.17.1)\n",
            "Requirement already satisfied: nltk>=3.1 in /usr/local/lib/python3.10/dist-packages (from textblob) (3.8.1)\n",
            "Requirement already satisfied: click in /usr/local/lib/python3.10/dist-packages (from nltk>=3.1->textblob) (8.1.7)\n",
            "Requirement already satisfied: joblib in /usr/local/lib/python3.10/dist-packages (from nltk>=3.1->textblob) (1.3.2)\n",
            "Requirement already satisfied: regex>=2021.8.3 in /usr/local/lib/python3.10/dist-packages (from nltk>=3.1->textblob) (2023.12.25)\n",
            "Requirement already satisfied: tqdm in /usr/local/lib/python3.10/dist-packages (from nltk>=3.1->textblob) (4.66.2)\n"
          ]
        }
      ],
      "source": [
        "pip install textblob\n"
      ]
    },
    {
      "cell_type": "code",
      "source": [
        "import nltk\n",
        "from nltk.sentiment.vader import SentimentIntensityAnalyzer\n",
        "\n",
        "# Download VADER lexicon if not already downloaded\n",
        "nltk.download('vader_lexicon')\n",
        "\n",
        "# Initialize the VADER sentiment analyzer\n",
        "sid = SentimentIntensityAnalyzer()\n",
        "\n",
        "# Sample text data\n",
        "text_data = [\n",
        "    \"I love this product, it's amazing!\",\n",
        "    \"The service was terrible, I'm never coming back.\",\n",
        "    \"The weather today is okay, neither good nor bad.\",\n",
        "    \"This movie is so-so, not too impressive.\"\n",
        "]\n",
        "\n",
        "# Analyze sentiment for each piece of text\n",
        "for text in text_data:\n",
        "    print(\"Text:\", text)\n",
        "    # Get sentiment scores\n",
        "    sentiment_scores = sid.polarity_scores(text)\n",
        "    # Determine sentiment\n",
        "    if sentiment_scores['compound'] >= 0.05:\n",
        "        sentiment = \"Positive\"\n",
        "    elif sentiment_scores['compound'] <= -0.05:\n",
        "        sentiment = \"Negative\"\n",
        "    else:\n",
        "        sentiment = \"Neutral\"\n",
        "    # Output sentiment result\n",
        "    print(\"Sentiment:\", sentiment)\n",
        "    print(\"Sentiment Scores:\", sentiment_scores)\n",
        "    print()\n"
      ],
      "metadata": {
        "colab": {
          "base_uri": "https://localhost:8080/"
        },
        "id": "Mc42vjti_6Ee",
        "outputId": "ff89c202-733d-4917-ecb1-d520a86e7b52"
      },
      "execution_count": 3,
      "outputs": [
        {
          "output_type": "stream",
          "name": "stderr",
          "text": [
            "[nltk_data] Downloading package vader_lexicon to /root/nltk_data...\n"
          ]
        },
        {
          "output_type": "stream",
          "name": "stdout",
          "text": [
            "Text: I love this product, it's amazing!\n",
            "Sentiment: Positive\n",
            "Sentiment Scores: {'neg': 0.0, 'neu': 0.266, 'pos': 0.734, 'compound': 0.8516}\n",
            "\n",
            "Text: The service was terrible, I'm never coming back.\n",
            "Sentiment: Negative\n",
            "Sentiment Scores: {'neg': 0.307, 'neu': 0.693, 'pos': 0.0, 'compound': -0.4767}\n",
            "\n",
            "Text: The weather today is okay, neither good nor bad.\n",
            "Sentiment: Negative\n",
            "Sentiment Scores: {'neg': 0.377, 'neu': 0.473, 'pos': 0.15, 'compound': -0.4357}\n",
            "\n",
            "Text: This movie is so-so, not too impressive.\n",
            "Sentiment: Negative\n",
            "Sentiment Scores: {'neg': 0.311, 'neu': 0.689, 'pos': 0.0, 'compound': -0.4023}\n",
            "\n"
          ]
        }
      ]
    }
  ]
}